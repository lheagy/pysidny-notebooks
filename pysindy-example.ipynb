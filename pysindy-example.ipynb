{
 "cells": [
  {
   "cell_type": "markdown",
   "metadata": {},
   "source": [
    "# Overivew of SINDy: Sparse Identification of Nonlinear Dynamical systems\n",
    "\n",
    "Follows [de Silva et al (2020)](https://arxiv.org/pdf/2004.08424.pdf).\n",
    "\n",
    "See also: \n",
    "- [Brunton et al (2016)](https://www.pnas.org/content/113/15/3932)\n",
    "- [de Silva et al (2019)](https://arxiv.org/pdf/1906.07906.pdf)"
   ]
  },
  {
   "cell_type": "markdown",
   "metadata": {},
   "source": [
    "## Background \n",
    "\n",
    "Consider governing dynamical systems of the form: \n",
    "\n",
    "$$\n",
    "\\frac{d}{dt} \\mathbf{x}(t) = \\mathbf{f}(\\mathbf{x}(t))\n",
    "$$\n",
    "\n",
    "where:\n",
    "- $\\mathbf{x}(t) = [x_1(t), x_2(t), ... x_n(t)]^\\top \\in \\mathbb{R}^n$: state vector (what we observe) \n",
    "- $\\mathbf{f}: \\mathbb{R}^n \\to \\mathbb{R}^n$: function that represents the dynamic constraints that define the equation (this is what we seek to identify) \n",
    "\n",
    "In the SINDy approach, the dynamics in $\\mathbf{f}$ are approximated with a library of candidate functions:\n",
    "\n",
    "$$\n",
    "\\mathbf{f}(\\mathbf{x}) \\simeq \\sum_{k=1}^l \\theta_k(\\mathbf{x}) \\xi_k\n",
    "$$\n",
    "\n",
    "where the majority of the coefficients $\\xi_k$ are zero. Thus, this is a sparse approximation. \n"
   ]
  },
  {
   "cell_type": "markdown",
   "metadata": {},
   "source": [
    "### Pose as a regression problem\n",
    "\n",
    "To determine $\\mathbf{f}$ from data, measure many instances of: $\\mathbf{x}(t)$ and $\\mathbf{\\dot{x}} = \\frac{d}{dt}\\mathbf{x}$ (or approximate it with finite differences), and assemble in matrices\n",
    "\n",
    "$$\n",
    "\\mathbf{X} = \\left(\\begin{matrix}\n",
    "    x_1(t_1), & x_1(t_2), & \\dots & x_1(t_n) \\\\\n",
    "    x_2(t_1), & x_2(t_2), & \\dots & x_2(t_n) \\\\\n",
    "    \\vdots, & \\vdots, & \\ddots & \\vdots \\\\\n",
    "    x_n(t_1), & x_n(t_2), & \\dots & x_n(t_n)\n",
    "\\end{matrix}\\right)\n",
    ", \\quad \n",
    "\\dot{\\mathbf{X}} = \\left(\\begin{matrix}\n",
    "    \\dot{x_1}(t_1), & \\dot{x_1}(t_2), & \\dots & \\dot{x_1}(t_n) \\\\\n",
    "    \\dot{x_2}(t_1), & \\dot{x_2}(t_2), & \\dots & \\dot{x_2}(t_n) \\\\\n",
    "    \\vdots, & \\vdots, & \\ddots & \\vdots \\\\\n",
    "    \\dot{x_n}(t_1), & \\dot{x_n}(t_2), & \\dots & \\dot{x_n}(t_n)\n",
    "\\end{matrix}\\right)\n",
    "$$\n",
    "\n",
    "Then the library of candidate functions are evaluated on $\\mathbf{X}$. For example\n",
    "\n",
    "$$\n",
    "\\Theta(\\mathbf{X}) = \\left(\\begin{matrix}\n",
    "| & | & | & & | & | & & \\\\\n",
    "\\mathbf{1} & \\mathbf{X} & \\mathbf{X}^{P_2} & \\dots & \\sin(\\mathbf{X}) & \\cos(\\mathbf{X}) \\dots \\\\\n",
    "| & | & | & & | & | & & \n",
    "\\end{matrix}\\right)\n",
    "$$\n",
    "\n",
    "where $\\mathbf{X}^{P_2}$ is a matrix that captures quadratic nonlinearieits (see equation 2 in [Brunton et al (2016)](https://www.pnas.org/content/113/15/3932))\n",
    "\n",
    "**Goal**: use sparse regression to solve\n",
    "\n",
    "$$\n",
    "\\dot{\\mathbf{X}} \\simeq \\Theta(\\mathbf{X})\\Xi\n",
    "$$\n",
    "\n",
    "where $\\Xi$ is a set of coefficients that determines the active terms in $\\mathbf{f}$"
   ]
  },
  {
   "cell_type": "markdown",
   "metadata": {},
   "source": [
    "<img src=\"https://www.pnas.org/content/pnas/113/15/3932/F1.large.jpg?width=800&height=600&carousel=1\">\n",
    "\n",
    "**Figure 1** from [Brunton et al (2016)](https://www.pnas.org/content/113/15/3932)"
   ]
  },
  {
   "cell_type": "markdown",
   "metadata": {},
   "source": [
    "In `pysindy`, each piece of the equation corresponds to a module:\n",
    "\n",
    "- $\\dot{\\mathbf{X}}$:   `pysindy.differentiation`: numerical differentiation (approximate $\\dot{\\mathbf{X}}$ from $\\mathbf{X}$)\n",
    "- $\\Theta(\\mathbf{X})$: `pysindy.feature_library`: forming the feature library (set of functions to be considered) \n",
    "- $\\Xi$:                `pysindy.optimizers`: sparse regression to estimate coefficients"
   ]
  },
  {
   "cell_type": "markdown",
   "metadata": {},
   "source": [
    "## Lets do some examples! "
   ]
  },
  {
   "cell_type": "code",
   "execution_count": null,
   "metadata": {},
   "outputs": [],
   "source": [
    "import numpy as np\n",
    "from scipy.integrate import odeint\n",
    "import ipywidgets\n",
    "import matplotlib.pyplot as plt\n",
    "\n",
    "import pysindy as ps"
   ]
  },
  {
   "cell_type": "code",
   "execution_count": null,
   "metadata": {},
   "outputs": [],
   "source": [
    "from matplotlib import rcParams\n",
    "rcParams[\"font.size\"] = 14"
   ]
  },
  {
   "cell_type": "markdown",
   "metadata": {},
   "source": [
    "### Example 1: Lorenz system\n",
    "\n",
    "$$\n",
    "\\begin{split}\n",
    "\\dot{x} =& \\sigma(y - x)\\\\\n",
    "\\dot{y} =& x(\\rho - z) - y\\\\\n",
    "\\dot{z} =& xy - \\beta z\n",
    "\\end{split}\n",
    "$$"
   ]
  },
  {
   "cell_type": "code",
   "execution_count": null,
   "metadata": {},
   "outputs": [],
   "source": [
    "def lorenz(x, t, sigma=10, rho=28, beta=8/3):\n",
    "    return [\n",
    "        sigma * (x[1] - x[0]), \n",
    "        x[0] * (rho - x[2]) - x[1],\n",
    "        x[0] * x[1] - beta * x[2]\n",
    "    ]"
   ]
  },
  {
   "cell_type": "code",
   "execution_count": null,
   "metadata": {},
   "outputs": [],
   "source": [
    "def integrate_lorenz(lorenz_function=None, dt=0.002, tmax=10, x0=[-8, 8, 27]):\n",
    "    if lorenz_function is None:\n",
    "        lorenz_function = lambda x, t: lorenz(x, t)\n",
    "    \n",
    "    t = np.arange(0, tmax, dt)\n",
    "    X = odeint(lorenz_function, x0, t)\n",
    "    return X"
   ]
  },
  {
   "cell_type": "code",
   "execution_count": null,
   "metadata": {},
   "outputs": [],
   "source": [
    "dt = 0.002\n",
    "X = integrate_lorenz(dt=dt)"
   ]
  },
  {
   "cell_type": "markdown",
   "metadata": {},
   "source": [
    "Figure 2 from [de Silva et al (2020)](https://arxiv.org/pdf/2004.08424.pdf)"
   ]
  },
  {
   "cell_type": "code",
   "execution_count": null,
   "metadata": {},
   "outputs": [],
   "source": [
    "fig = plt.figure(figsize=(5, 4))\n",
    "ax = fig.add_subplot(111, projection=\"3d\")\n",
    "ax.plot(X[:, 0], X[:, 1], X[:, 2])\n",
    "ax.set_xlabel(\"x\")\n",
    "ax.set_ylabel(\"y\")\n",
    "ax.set_zlabel(\"z\")"
   ]
  },
  {
   "cell_type": "markdown",
   "metadata": {},
   "source": [
    "### Basic usage"
   ]
  },
  {
   "cell_type": "code",
   "execution_count": null,
   "metadata": {},
   "outputs": [],
   "source": [
    "np.random.randn(19, 2)"
   ]
  },
  {
   "cell_type": "code",
   "execution_count": null,
   "metadata": {},
   "outputs": [],
   "source": [
    "model = ps.SINDy()\n",
    "#     differentiation_method = ps.FiniteDifference(order=2),\n",
    "#     feature_library = ps.PolynomialLibrary(degree=3),\n",
    "#     optimizer = ps.STLSQ(threshold=0.2),\n",
    "model.fit(X, t=dt)\n",
    "model.print()"
   ]
  },
  {
   "cell_type": "code",
   "execution_count": null,
   "metadata": {},
   "outputs": [],
   "source": [
    "x0_test = np.array([8, 7, 15])\n",
    "tmax_test = 15\n",
    "X_test = integrate_lorenz(x0=x0_test, tmax=tmax_test)"
   ]
  },
  {
   "cell_type": "markdown",
   "metadata": {},
   "source": [
    "predict derivatives"
   ]
  },
  {
   "cell_type": "code",
   "execution_count": null,
   "metadata": {},
   "outputs": [],
   "source": [
    "X_dot_test_computed = model.differentiate(X_test, t=dt)\n",
    "X_dot_test_predicted = model.predict(X_test)"
   ]
  },
  {
   "cell_type": "code",
   "execution_count": null,
   "metadata": {},
   "outputs": [],
   "source": [
    "fig, ax=plt.subplots(2, 3, figsize=(12, 6))\n",
    "\n",
    "t_test = np.arange(0, tmax_test, step=dt)\n",
    "\n",
    "for i in range(3):\n",
    "    ax[0, i].plot(t_test, X_dot_test_computed[:, i], 'k', label=\"numerical derivative\")\n",
    "    ax[0, i].plot(t_test, X_dot_test_predicted[:, i], '--r', label=\"model prediction\")\n",
    "    ax[0, i].set_title(\"$\\dot{\\mathbf{X}}$\" + f\"${i}$\")\n",
    "    \n",
    "    ax[1, i].plot(t_test, X_dot_test_computed[:, i]-X_dot_test_predicted[:, i], label=\"difference\")\n",
    "    ax[1, i].set_xlabel(\"t\")\n",
    "ax[0, 2].legend()\n",
    "plt.tight_layout()"
   ]
  },
  {
   "cell_type": "code",
   "execution_count": null,
   "metadata": {},
   "outputs": [],
   "source": [
    "X_test_sim = model.simulate(x0_test, t_test)"
   ]
  },
  {
   "cell_type": "code",
   "execution_count": null,
   "metadata": {},
   "outputs": [],
   "source": [
    "fig, ax = plt.subplots(1, 3, figsize=(12, 3))\n",
    "\n",
    "for i, a in enumerate(ax):\n",
    "    a.plot(t_test, X_test[:, i], '-k')\n",
    "    a.plot(t_test, X_test_sim[:, i], '--r')\n",
    "    a.set_title(\"$\\mathbf{X}$\"+f\"{i}\")\n",
    "    a.set_xlabel(\"t\")\n",
    "plt.tight_layout()"
   ]
  },
  {
   "cell_type": "code",
   "execution_count": null,
   "metadata": {},
   "outputs": [],
   "source": [
    "fig = plt.figure(figsize=(10, 4.5))\n",
    "ax1 = fig.add_subplot(121, projection='3d')\n",
    "ax1.plot(X_test[:, 0], X_test[:, 1], X_test[:, 2], 'k')\n",
    "ax1.set(\n",
    "    xlabel='$x_0$', ylabel='$x_1$',\n",
    "    zlabel='$x_2$', title='true simulation'\n",
    ")\n",
    "\n",
    "ax2 = fig.add_subplot(122, projection='3d')\n",
    "ax2.plot(X_test_sim[:, 0], X_test_sim[:, 1], X_test_sim[:, 2], 'r')\n",
    "ax2.set(\n",
    "    xlabel='$x_0$', ylabel='$x_1$',\n",
    "    zlabel='$x_2$', title='model simulation'\n",
    ")"
   ]
  },
  {
   "cell_type": "markdown",
   "metadata": {},
   "source": [
    "## adding noise"
   ]
  },
  {
   "cell_type": "code",
   "execution_count": null,
   "metadata": {},
   "outputs": [],
   "source": [
    "# explore adding noise\n",
    "noise = [0., 1e-3, 1e-2, 1e-1, 1, 2]\n",
    "\n",
    "coefficients = []\n",
    "model_simulations = []\n",
    "\n",
    "x0_test = np.array([8, 7, 15])\n",
    "tmax_test = 15\n",
    "t_test = np.arange(0, tmax_test, step=dt)\n",
    "X_test = integrate_lorenz(x0=x0_test, tmax=tmax_test)\n",
    "\n",
    "for n in noise:\n",
    "    model = ps.SINDy()\n",
    "    model.fit(X + n*np.random.randn(X.shape[0], X.shape[1]), t=dt)\n",
    "    coefficients.append(model.coefficients())\n",
    "    model_simulations.append(model.simulate(x0_test, t_test))"
   ]
  },
  {
   "cell_type": "code",
   "execution_count": null,
   "metadata": {},
   "outputs": [],
   "source": [
    "fig, ax = plt.subplots(1, len(noise), figsize=(3.5*len(noise), 4))\n",
    "\n",
    "clim = np.max(np.abs(np.hstack(coefficients))) * np.r_[-1, 1]\n",
    "\n",
    "for a, n, c in zip(ax, noise, coefficients):\n",
    "    plt.colorbar(\n",
    "        a.imshow(c.T, cmap=\"RdBu_r\", clim=clim), ax=a\n",
    "    )\n",
    "    a.set_title(f\"$\\eta$ = {n:1.1e}\")\n",
    "    a.set_xticklabels(model.feature_names)\n",
    "    a.set_yticklabels(model.feature_library.get_feature_names())"
   ]
  },
  {
   "cell_type": "code",
   "execution_count": null,
   "metadata": {},
   "outputs": [],
   "source": [
    "fig = plt.figure(figsize=(5*len(noise), 4.5))\n",
    "\n",
    "ax = fig.add_subplot(int(f\"1{len(noise)+1}{1}\"), projection='3d')\n",
    "ax.plot(X_test[:, 0], X_test[:, 1], X_test[:, 2])\n",
    "ax.set(\n",
    "    xlabel='$x_0$', ylabel='$x_1$',\n",
    "    zlabel='$x_2$', title=f\"True\"\n",
    ")\n",
    "\n",
    "for i, n, m in zip(range(len(noise)), noise, model_simulations):\n",
    "    ax = fig.add_subplot(int(f\"1{len(noise)+1}{i+2}\"), projection='3d')\n",
    "    ax.plot(m[:, 0], m[:, 1], m[:, 2])\n",
    "    ax.set(\n",
    "        xlabel='$x_0$', ylabel='$x_1$',\n",
    "        zlabel='$x_2$', title=f\"$\\eta$ = {n:1.1e}\"\n",
    "    )\n",
    "\n",
    "    "
   ]
  },
  {
   "cell_type": "code",
   "execution_count": null,
   "metadata": {},
   "outputs": [],
   "source": []
  }
 ],
 "metadata": {
  "kernelspec": {
   "display_name": "Python 3",
   "language": "python",
   "name": "python3"
  },
  "language_info": {
   "codemirror_mode": {
    "name": "ipython",
    "version": 3
   },
   "file_extension": ".py",
   "mimetype": "text/x-python",
   "name": "python",
   "nbconvert_exporter": "python",
   "pygments_lexer": "ipython3",
   "version": "3.8.3"
  }
 },
 "nbformat": 4,
 "nbformat_minor": 4
}
